{
 "cells": [
  {
   "cell_type": "markdown",
   "metadata": {},
   "source": [
    "Unsupervised Learning\n",
    "===="
   ]
  },
  {
   "cell_type": "markdown",
   "metadata": {},
   "source": [
    "The customer segments data is included as a selection of 440 data points collected on data found from clients of a wholesale distributor in Lisbon, Portugal. More information can be found on the UCI Machine Learning Repository.\n",
    "\n",
    "Note (m.u.) is shorthand for monetary units.\n",
    "\n",
    "Features:\n",
    "- 1) Fresh: annual spending (m.u.) on fresh products (Continuous)\n",
    "- 2) Milk: annual spending (m.u.) on milk products (Continuous)\n",
    "- 3) Grocery: annual spending (m.u.) on grocery products (Continuous)\n",
    "- 4) Frozen: annual spending (m.u.) on frozen products (Continuous)\n",
    "- 5) Detergents_Paper: annual spending (m.u.) on detergents and paper - products (Continuous)\n",
    "- 6) Delicatessen: annual spending (m.u.) on and delicatessen products (Continuous)\n",
    "- 7) Channel: {Hotel/Restaurant/Cafe - 1, Retail - 2} (Nominal)\n",
    "- 8) Region: {Lisbon - 1, Oporto - 2, or Other - 3} (Nominal)"
   ]
  },
  {
   "cell_type": "markdown",
   "metadata": {},
   "source": [
    "In this project, you will analyze a dataset containing data on various customers' annual spending amounts (reported in monetary units) of diverse product categories for internal structure. One goal of this project is to best describe the variation in the different types of customers that a wholesale distributor interacts with."
   ]
  },
  {
   "cell_type": "markdown",
   "metadata": {},
   "source": [
    "## Getting Started"
   ]
  },
  {
   "cell_type": "code",
   "execution_count": 1,
   "metadata": {},
   "outputs": [],
   "source": [
    "# Import necessary libraries: pandas, numpy, matplotlib, seaborn\n",
    "import pandas as pd\n",
    "import numpy as np\n",
    "import matplotlib.pyplot as plt\n",
    "import seaborn as sns\n"
   ]
  },
  {
   "cell_type": "code",
   "execution_count": 2,
   "metadata": {},
   "outputs": [
    {
     "data": {
      "text/html": [
       "<div>\n",
       "<style scoped>\n",
       "    .dataframe tbody tr th:only-of-type {\n",
       "        vertical-align: middle;\n",
       "    }\n",
       "\n",
       "    .dataframe tbody tr th {\n",
       "        vertical-align: top;\n",
       "    }\n",
       "\n",
       "    .dataframe thead th {\n",
       "        text-align: right;\n",
       "    }\n",
       "</style>\n",
       "<table border=\"1\" class=\"dataframe\">\n",
       "  <thead>\n",
       "    <tr style=\"text-align: right;\">\n",
       "      <th></th>\n",
       "      <th>Fresh</th>\n",
       "      <th>Milk</th>\n",
       "      <th>Grocery</th>\n",
       "      <th>Frozen</th>\n",
       "      <th>Detergents_Paper</th>\n",
       "      <th>Delicatessen</th>\n",
       "    </tr>\n",
       "  </thead>\n",
       "  <tbody>\n",
       "    <tr>\n",
       "      <th>0</th>\n",
       "      <td>12669</td>\n",
       "      <td>9656</td>\n",
       "      <td>7561</td>\n",
       "      <td>214</td>\n",
       "      <td>2674</td>\n",
       "      <td>1338</td>\n",
       "    </tr>\n",
       "    <tr>\n",
       "      <th>1</th>\n",
       "      <td>7057</td>\n",
       "      <td>9810</td>\n",
       "      <td>9568</td>\n",
       "      <td>1762</td>\n",
       "      <td>3293</td>\n",
       "      <td>1776</td>\n",
       "    </tr>\n",
       "    <tr>\n",
       "      <th>2</th>\n",
       "      <td>6353</td>\n",
       "      <td>8808</td>\n",
       "      <td>7684</td>\n",
       "      <td>2405</td>\n",
       "      <td>3516</td>\n",
       "      <td>7844</td>\n",
       "    </tr>\n",
       "    <tr>\n",
       "      <th>3</th>\n",
       "      <td>13265</td>\n",
       "      <td>1196</td>\n",
       "      <td>4221</td>\n",
       "      <td>6404</td>\n",
       "      <td>507</td>\n",
       "      <td>1788</td>\n",
       "    </tr>\n",
       "    <tr>\n",
       "      <th>4</th>\n",
       "      <td>22615</td>\n",
       "      <td>5410</td>\n",
       "      <td>7198</td>\n",
       "      <td>3915</td>\n",
       "      <td>1777</td>\n",
       "      <td>5185</td>\n",
       "    </tr>\n",
       "  </tbody>\n",
       "</table>\n",
       "</div>"
      ],
      "text/plain": [
       "   Fresh  Milk  Grocery  Frozen  Detergents_Paper  Delicatessen\n",
       "0  12669  9656     7561     214              2674          1338\n",
       "1   7057  9810     9568    1762              3293          1776\n",
       "2   6353  8808     7684    2405              3516          7844\n",
       "3  13265  1196     4221    6404               507          1788\n",
       "4  22615  5410     7198    3915              1777          5185"
      ]
     },
     "execution_count": 2,
     "metadata": {},
     "output_type": "execute_result"
    }
   ],
   "source": [
    "# Read dataset\n",
    "# For the purposes of this project, the features 'Channel' and 'Region' will be excluded in the analysis — \n",
    "# with focus instead on the six product categories recorded for customers.\n",
    "\n",
    "# import dataset\n",
    "data = pd.read_csv(\"./customers.csv\")\n",
    "# drop columns Channel and Region\n",
    "data = data.drop(columns=[\"Channel\",\"Region\"])\n",
    "data.head()"
   ]
  },
  {
   "cell_type": "markdown",
   "metadata": {},
   "source": [
    "## Data Exploration"
   ]
  },
  {
   "cell_type": "code",
   "execution_count": 3,
   "metadata": {},
   "outputs": [
    {
     "data": {
      "text/html": [
       "<div>\n",
       "<style scoped>\n",
       "    .dataframe tbody tr th:only-of-type {\n",
       "        vertical-align: middle;\n",
       "    }\n",
       "\n",
       "    .dataframe tbody tr th {\n",
       "        vertical-align: top;\n",
       "    }\n",
       "\n",
       "    .dataframe thead th {\n",
       "        text-align: right;\n",
       "    }\n",
       "</style>\n",
       "<table border=\"1\" class=\"dataframe\">\n",
       "  <thead>\n",
       "    <tr style=\"text-align: right;\">\n",
       "      <th></th>\n",
       "      <th>Fresh</th>\n",
       "      <th>Milk</th>\n",
       "      <th>Grocery</th>\n",
       "      <th>Frozen</th>\n",
       "      <th>Detergents_Paper</th>\n",
       "      <th>Delicatessen</th>\n",
       "    </tr>\n",
       "  </thead>\n",
       "  <tbody>\n",
       "    <tr>\n",
       "      <th>0</th>\n",
       "      <td>12669</td>\n",
       "      <td>9656</td>\n",
       "      <td>7561</td>\n",
       "      <td>214</td>\n",
       "      <td>2674</td>\n",
       "      <td>1338</td>\n",
       "    </tr>\n",
       "    <tr>\n",
       "      <th>1</th>\n",
       "      <td>7057</td>\n",
       "      <td>9810</td>\n",
       "      <td>9568</td>\n",
       "      <td>1762</td>\n",
       "      <td>3293</td>\n",
       "      <td>1776</td>\n",
       "    </tr>\n",
       "    <tr>\n",
       "      <th>2</th>\n",
       "      <td>6353</td>\n",
       "      <td>8808</td>\n",
       "      <td>7684</td>\n",
       "      <td>2405</td>\n",
       "      <td>3516</td>\n",
       "      <td>7844</td>\n",
       "    </tr>\n",
       "    <tr>\n",
       "      <th>3</th>\n",
       "      <td>13265</td>\n",
       "      <td>1196</td>\n",
       "      <td>4221</td>\n",
       "      <td>6404</td>\n",
       "      <td>507</td>\n",
       "      <td>1788</td>\n",
       "    </tr>\n",
       "    <tr>\n",
       "      <th>4</th>\n",
       "      <td>22615</td>\n",
       "      <td>5410</td>\n",
       "      <td>7198</td>\n",
       "      <td>3915</td>\n",
       "      <td>1777</td>\n",
       "      <td>5185</td>\n",
       "    </tr>\n",
       "  </tbody>\n",
       "</table>\n",
       "</div>"
      ],
      "text/plain": [
       "   Fresh  Milk  Grocery  Frozen  Detergents_Paper  Delicatessen\n",
       "0  12669  9656     7561     214              2674          1338\n",
       "1   7057  9810     9568    1762              3293          1776\n",
       "2   6353  8808     7684    2405              3516          7844\n",
       "3  13265  1196     4221    6404               507          1788\n",
       "4  22615  5410     7198    3915              1777          5185"
      ]
     },
     "execution_count": 3,
     "metadata": {},
     "output_type": "execute_result"
    }
   ],
   "source": [
    "# Let's take a look at dataset\n",
    "data.head()"
   ]
  },
  {
   "cell_type": "code",
   "execution_count": 4,
   "metadata": {},
   "outputs": [
    {
     "name": "stdout",
     "output_type": "stream",
     "text": [
      "<class 'pandas.core.frame.DataFrame'>\n",
      "RangeIndex: 440 entries, 0 to 439\n",
      "Data columns (total 6 columns):\n",
      "Fresh               440 non-null int64\n",
      "Milk                440 non-null int64\n",
      "Grocery             440 non-null int64\n",
      "Frozen              440 non-null int64\n",
      "Detergents_Paper    440 non-null int64\n",
      "Delicatessen        440 non-null int64\n",
      "dtypes: int64(6)\n",
      "memory usage: 20.7 KB\n"
     ]
    }
   ],
   "source": [
    "# How many observations are in this data set?\n",
    "# Is there any missing value?\n",
    "data.info()"
   ]
  },
  {
   "cell_type": "code",
   "execution_count": 5,
   "metadata": {},
   "outputs": [
    {
     "data": {
      "text/html": [
       "<div>\n",
       "<style scoped>\n",
       "    .dataframe tbody tr th:only-of-type {\n",
       "        vertical-align: middle;\n",
       "    }\n",
       "\n",
       "    .dataframe tbody tr th {\n",
       "        vertical-align: top;\n",
       "    }\n",
       "\n",
       "    .dataframe thead th {\n",
       "        text-align: right;\n",
       "    }\n",
       "</style>\n",
       "<table border=\"1\" class=\"dataframe\">\n",
       "  <thead>\n",
       "    <tr style=\"text-align: right;\">\n",
       "      <th></th>\n",
       "      <th>Fresh</th>\n",
       "      <th>Milk</th>\n",
       "      <th>Grocery</th>\n",
       "      <th>Frozen</th>\n",
       "      <th>Detergents_Paper</th>\n",
       "      <th>Delicatessen</th>\n",
       "    </tr>\n",
       "  </thead>\n",
       "  <tbody>\n",
       "    <tr>\n",
       "      <th>count</th>\n",
       "      <td>440.000000</td>\n",
       "      <td>440.000000</td>\n",
       "      <td>440.000000</td>\n",
       "      <td>440.000000</td>\n",
       "      <td>440.000000</td>\n",
       "      <td>440.000000</td>\n",
       "    </tr>\n",
       "    <tr>\n",
       "      <th>mean</th>\n",
       "      <td>12000.297727</td>\n",
       "      <td>5796.265909</td>\n",
       "      <td>7951.277273</td>\n",
       "      <td>3071.931818</td>\n",
       "      <td>2881.493182</td>\n",
       "      <td>1524.870455</td>\n",
       "    </tr>\n",
       "    <tr>\n",
       "      <th>std</th>\n",
       "      <td>12647.328865</td>\n",
       "      <td>7380.377175</td>\n",
       "      <td>9503.162829</td>\n",
       "      <td>4854.673333</td>\n",
       "      <td>4767.854448</td>\n",
       "      <td>2820.105937</td>\n",
       "    </tr>\n",
       "    <tr>\n",
       "      <th>min</th>\n",
       "      <td>3.000000</td>\n",
       "      <td>55.000000</td>\n",
       "      <td>3.000000</td>\n",
       "      <td>25.000000</td>\n",
       "      <td>3.000000</td>\n",
       "      <td>3.000000</td>\n",
       "    </tr>\n",
       "    <tr>\n",
       "      <th>25%</th>\n",
       "      <td>3127.750000</td>\n",
       "      <td>1533.000000</td>\n",
       "      <td>2153.000000</td>\n",
       "      <td>742.250000</td>\n",
       "      <td>256.750000</td>\n",
       "      <td>408.250000</td>\n",
       "    </tr>\n",
       "    <tr>\n",
       "      <th>50%</th>\n",
       "      <td>8504.000000</td>\n",
       "      <td>3627.000000</td>\n",
       "      <td>4755.500000</td>\n",
       "      <td>1526.000000</td>\n",
       "      <td>816.500000</td>\n",
       "      <td>965.500000</td>\n",
       "    </tr>\n",
       "    <tr>\n",
       "      <th>75%</th>\n",
       "      <td>16933.750000</td>\n",
       "      <td>7190.250000</td>\n",
       "      <td>10655.750000</td>\n",
       "      <td>3554.250000</td>\n",
       "      <td>3922.000000</td>\n",
       "      <td>1820.250000</td>\n",
       "    </tr>\n",
       "    <tr>\n",
       "      <th>max</th>\n",
       "      <td>112151.000000</td>\n",
       "      <td>73498.000000</td>\n",
       "      <td>92780.000000</td>\n",
       "      <td>60869.000000</td>\n",
       "      <td>40827.000000</td>\n",
       "      <td>47943.000000</td>\n",
       "    </tr>\n",
       "  </tbody>\n",
       "</table>\n",
       "</div>"
      ],
      "text/plain": [
       "               Fresh          Milk       Grocery        Frozen  \\\n",
       "count     440.000000    440.000000    440.000000    440.000000   \n",
       "mean    12000.297727   5796.265909   7951.277273   3071.931818   \n",
       "std     12647.328865   7380.377175   9503.162829   4854.673333   \n",
       "min         3.000000     55.000000      3.000000     25.000000   \n",
       "25%      3127.750000   1533.000000   2153.000000    742.250000   \n",
       "50%      8504.000000   3627.000000   4755.500000   1526.000000   \n",
       "75%     16933.750000   7190.250000  10655.750000   3554.250000   \n",
       "max    112151.000000  73498.000000  92780.000000  60869.000000   \n",
       "\n",
       "       Detergents_Paper  Delicatessen  \n",
       "count        440.000000    440.000000  \n",
       "mean        2881.493182   1524.870455  \n",
       "std         4767.854448   2820.105937  \n",
       "min            3.000000      3.000000  \n",
       "25%          256.750000    408.250000  \n",
       "50%          816.500000    965.500000  \n",
       "75%         3922.000000   1820.250000  \n",
       "max        40827.000000  47943.000000  "
      ]
     },
     "execution_count": 5,
     "metadata": {},
     "output_type": "execute_result"
    }
   ],
   "source": [
    "#descriptive statistics of the dataset\n",
    "# Your code here\n",
    "data.T\n",
    "data.describe()"
   ]
  },
  {
   "cell_type": "markdown",
   "metadata": {},
   "source": [
    "### Visualization: Purchase Behavior"
   ]
  },
  {
   "cell_type": "code",
   "execution_count": 6,
   "metadata": {},
   "outputs": [
    {
     "data": {
      "text/plain": [
       "<matplotlib.axes._subplots.AxesSubplot at 0x249994834a8>"
      ]
     },
     "execution_count": 6,
     "metadata": {},
     "output_type": "execute_result"
    },
    {
     "data": {
      "image/png": "[encoded data removed]",
      "text/plain": [
       "<Figure size 432x288 with 1 Axes>"
      ]
     },
     "metadata": {
      "needs_background": "light"
     },
     "output_type": "display_data"
    }
   ],
   "source": [
    "# The dataset is composed of six important product categories: \n",
    "# 'Fresh', 'Milk', 'Grocery', 'Frozen', 'Detergents_Paper', and 'Delicatessen'. \n",
    "# Consider what each category represents in terms of products you could purchase.\n",
    "\n",
    "# Plot total purchases on each product categories\n",
    "# Your code here\n",
    "import pandas as pd\n",
    "import matplotlib.pyplot as plt\n",
    "%matplotlib inline\n",
    "data = pd.read_csv('customers.csv')\n",
    "data = data.drop(columns=['Channel', 'Region'])\n",
    "data.sum().plot(kind='barh')"
   ]
  },
  {
   "cell_type": "markdown",
   "metadata": {},
   "source": [
    "#### What is distribution of Total Purchases of each person"
   ]
  },
  {
   "cell_type": "code",
   "execution_count": 7,
   "metadata": {},
   "outputs": [
    {
     "data": {
      "text/html": [
       "<div>\n",
       "<style scoped>\n",
       "    .dataframe tbody tr th:only-of-type {\n",
       "        vertical-align: middle;\n",
       "    }\n",
       "\n",
       "    .dataframe tbody tr th {\n",
       "        vertical-align: top;\n",
       "    }\n",
       "\n",
       "    .dataframe thead th {\n",
       "        text-align: right;\n",
       "    }\n",
       "</style>\n",
       "<table border=\"1\" class=\"dataframe\">\n",
       "  <thead>\n",
       "    <tr style=\"text-align: right;\">\n",
       "      <th></th>\n",
       "      <th>Fresh</th>\n",
       "      <th>Milk</th>\n",
       "      <th>Grocery</th>\n",
       "      <th>Frozen</th>\n",
       "      <th>Detergents_Paper</th>\n",
       "      <th>Delicatessen</th>\n",
       "    </tr>\n",
       "  </thead>\n",
       "  <tbody>\n",
       "    <tr>\n",
       "      <th>0</th>\n",
       "      <td>37.139423</td>\n",
       "      <td>28.306754</td>\n",
       "      <td>22.165220</td>\n",
       "      <td>0.627345</td>\n",
       "      <td>7.838884</td>\n",
       "      <td>3.922373</td>\n",
       "    </tr>\n",
       "    <tr>\n",
       "      <th>1</th>\n",
       "      <td>21.213852</td>\n",
       "      <td>29.489569</td>\n",
       "      <td>28.762099</td>\n",
       "      <td>5.296699</td>\n",
       "      <td>9.898996</td>\n",
       "      <td>5.338784</td>\n",
       "    </tr>\n",
       "    <tr>\n",
       "      <th>2</th>\n",
       "      <td>17.353182</td>\n",
       "      <td>24.059000</td>\n",
       "      <td>20.988801</td>\n",
       "      <td>6.569243</td>\n",
       "      <td>9.603933</td>\n",
       "      <td>21.425840</td>\n",
       "    </tr>\n",
       "    <tr>\n",
       "      <th>3</th>\n",
       "      <td>48.446003</td>\n",
       "      <td>4.367992</td>\n",
       "      <td>15.415799</td>\n",
       "      <td>23.388481</td>\n",
       "      <td>1.851649</td>\n",
       "      <td>6.530076</td>\n",
       "    </tr>\n",
       "    <tr>\n",
       "      <th>4</th>\n",
       "      <td>49.056399</td>\n",
       "      <td>11.735358</td>\n",
       "      <td>15.613883</td>\n",
       "      <td>8.492408</td>\n",
       "      <td>3.854664</td>\n",
       "      <td>11.247289</td>\n",
       "    </tr>\n",
       "    <tr>\n",
       "      <th>5</th>\n",
       "      <td>35.241483</td>\n",
       "      <td>30.921003</td>\n",
       "      <td>19.191314</td>\n",
       "      <td>2.493448</td>\n",
       "      <td>6.720329</td>\n",
       "      <td>5.432422</td>\n",
       "    </tr>\n",
       "    <tr>\n",
       "      <th>6</th>\n",
       "      <td>45.819006</td>\n",
       "      <td>12.087663</td>\n",
       "      <td>26.355564</td>\n",
       "      <td>1.813716</td>\n",
       "      <td>11.864727</td>\n",
       "      <td>2.059324</td>\n",
       "    </tr>\n",
       "    <tr>\n",
       "      <th>7</th>\n",
       "      <td>25.676729</td>\n",
       "      <td>16.790324</td>\n",
       "      <td>31.934140</td>\n",
       "      <td>5.654369</td>\n",
       "      <td>11.251143</td>\n",
       "      <td>8.693295</td>\n",
       "    </tr>\n",
       "    <tr>\n",
       "      <th>8</th>\n",
       "      <td>31.897935</td>\n",
       "      <td>19.514283</td>\n",
       "      <td>33.122927</td>\n",
       "      <td>2.273457</td>\n",
       "      <td>9.179416</td>\n",
       "      <td>4.011982</td>\n",
       "    </tr>\n",
       "    <tr>\n",
       "      <th>9</th>\n",
       "      <td>12.871287</td>\n",
       "      <td>23.773092</td>\n",
       "      <td>40.463332</td>\n",
       "      <td>2.483820</td>\n",
       "      <td>15.912306</td>\n",
       "      <td>4.496164</td>\n",
       "    </tr>\n",
       "  </tbody>\n",
       "</table>\n",
       "</div>"
      ],
      "text/plain": [
       "       Fresh       Milk    Grocery     Frozen  Detergents_Paper  Delicatessen\n",
       "0  37.139423  28.306754  22.165220   0.627345          7.838884      3.922373\n",
       "1  21.213852  29.489569  28.762099   5.296699          9.898996      5.338784\n",
       "2  17.353182  24.059000  20.988801   6.569243          9.603933     21.425840\n",
       "3  48.446003   4.367992  15.415799  23.388481          1.851649      6.530076\n",
       "4  49.056399  11.735358  15.613883   8.492408          3.854664     11.247289\n",
       "5  35.241483  30.921003  19.191314   2.493448          6.720329      5.432422\n",
       "6  45.819006  12.087663  26.355564   1.813716         11.864727      2.059324\n",
       "7  25.676729  16.790324  31.934140   5.654369         11.251143      8.693295\n",
       "8  31.897935  19.514283  33.122927   2.273457          9.179416      4.011982\n",
       "9  12.871287  23.773092  40.463332   2.483820         15.912306      4.496164"
      ]
     },
     "execution_count": 7,
     "metadata": {},
     "output_type": "execute_result"
    }
   ],
   "source": [
    "# Calculate total purchases\n",
    "# Hint: sum by columns\n",
    "# Your code here\n",
    "data_percent = data.apply(lambda x: x * 100 / x.sum(), axis=1)\n",
    "data_percent.head(10)"
   ]
  },
  {
   "cell_type": "code",
   "execution_count": 8,
   "metadata": {},
   "outputs": [],
   "source": [
    "# Number of row in dataset\n",
    "nrows = data.shape[0]\n",
    "data[\"total\"] = data.sum(axis=1)\n"
   ]
  },
  {
   "cell_type": "markdown",
   "metadata": {},
   "source": [
    "#### create list index of 10% lowest spenders "
   ]
  },
  {
   "cell_type": "code",
   "execution_count": 16,
   "metadata": {},
   "outputs": [
    {
     "data": {
      "text/plain": [
       "Int64Index([154,  97,  98, 355, 131, 275, 327, 299, 352, 203, 184, 367,  34,\n",
       "            274, 364, 439, 362, 361, 219, 369, 344, 228, 151, 168, 320, 186,\n",
       "            206, 350, 375, 250, 392, 238, 378, 433, 359, 192, 290,  95, 391,\n",
       "            233, 204, 174, 280, 224],\n",
       "           dtype='int64')"
      ]
     },
     "execution_count": 16,
     "metadata": {},
     "output_type": "execute_result"
    }
   ],
   "source": [
    "select_lowest = data.nsmallest(nrows // 10, 'total').index\n",
    "select_lowest"
   ]
  },
  {
   "cell_type": "markdown",
   "metadata": {},
   "source": [
    "#### create list index of 10% highest spenders."
   ]
  },
  {
   "cell_type": "code",
   "execution_count": 25,
   "metadata": {},
   "outputs": [
    {
     "data": {
      "text/plain": [
       "Int64Index([202,  24, 171, 165, 239,  45,  12, 201,  71, 163, 331, 196,  28,\n",
       "            282,  77, 319, 176, 216, 427, 259,  39,  49, 258, 435, 437,  87,\n",
       "            145,  56, 103,  65, 251,  92, 284, 125, 211,  23, 333, 325,  86,\n",
       "             61, 183, 181,  47,  85],\n",
       "           dtype='int64')"
      ]
     },
     "execution_count": 25,
     "metadata": {},
     "output_type": "execute_result"
    }
   ],
   "source": [
    "select_highest = data.nlargest(nrows // 10, 'total').index\n",
    "select_highest =  select_highest[::-1]\n",
    "select_highest"
   ]
  },
  {
   "cell_type": "markdown",
   "metadata": {},
   "source": [
    "#### how the 10% lowest spenders compare to the 10% highest spenders."
   ]
  },
  {
   "cell_type": "code",
   "execution_count": 26,
   "metadata": {},
   "outputs": [
    {
     "data": {
      "text/html": [
       "<div>\n",
       "<style scoped>\n",
       "    .dataframe tbody tr th:only-of-type {\n",
       "        vertical-align: middle;\n",
       "    }\n",
       "\n",
       "    .dataframe tbody tr th {\n",
       "        vertical-align: top;\n",
       "    }\n",
       "\n",
       "    .dataframe thead th {\n",
       "        text-align: right;\n",
       "    }\n",
       "</style>\n",
       "<table border=\"1\" class=\"dataframe\">\n",
       "  <thead>\n",
       "    <tr style=\"text-align: right;\">\n",
       "      <th></th>\n",
       "      <th>Fresh</th>\n",
       "      <th>Milk</th>\n",
       "      <th>Grocery</th>\n",
       "      <th>Frozen</th>\n",
       "      <th>Detergents_Paper</th>\n",
       "      <th>Delicatessen</th>\n",
       "      <th>Spending</th>\n",
       "    </tr>\n",
       "  </thead>\n",
       "  <tbody>\n",
       "    <tr>\n",
       "      <th>154</th>\n",
       "      <td>68.805310</td>\n",
       "      <td>6.084071</td>\n",
       "      <td>15.154867</td>\n",
       "      <td>8.296460</td>\n",
       "      <td>0.774336</td>\n",
       "      <td>0.884956</td>\n",
       "      <td>Low</td>\n",
       "    </tr>\n",
       "    <tr>\n",
       "      <th>97</th>\n",
       "      <td>18.674699</td>\n",
       "      <td>11.770158</td>\n",
       "      <td>28.266914</td>\n",
       "      <td>35.866543</td>\n",
       "      <td>2.502317</td>\n",
       "      <td>2.919370</td>\n",
       "      <td>Low</td>\n",
       "    </tr>\n",
       "    <tr>\n",
       "      <th>98</th>\n",
       "      <td>20.315024</td>\n",
       "      <td>4.523425</td>\n",
       "      <td>31.421648</td>\n",
       "      <td>36.147011</td>\n",
       "      <td>2.261712</td>\n",
       "      <td>5.331179</td>\n",
       "      <td>Low</td>\n",
       "    </tr>\n",
       "    <tr>\n",
       "      <th>355</th>\n",
       "      <td>5.451937</td>\n",
       "      <td>20.860832</td>\n",
       "      <td>57.733142</td>\n",
       "      <td>7.030129</td>\n",
       "      <td>5.279770</td>\n",
       "      <td>3.644189</td>\n",
       "      <td>Low</td>\n",
       "    </tr>\n",
       "    <tr>\n",
       "      <th>131</th>\n",
       "      <td>56.327078</td>\n",
       "      <td>15.790885</td>\n",
       "      <td>8.418231</td>\n",
       "      <td>9.276139</td>\n",
       "      <td>1.876676</td>\n",
       "      <td>8.310992</td>\n",
       "      <td>Low</td>\n",
       "    </tr>\n",
       "  </tbody>\n",
       "</table>\n",
       "</div>"
      ],
      "text/plain": [
       "         Fresh       Milk    Grocery     Frozen  Detergents_Paper  \\\n",
       "154  68.805310   6.084071  15.154867   8.296460          0.774336   \n",
       "97   18.674699  11.770158  28.266914  35.866543          2.502317   \n",
       "98   20.315024   4.523425  31.421648  36.147011          2.261712   \n",
       "355   5.451937  20.860832  57.733142   7.030129          5.279770   \n",
       "131  56.327078  15.790885   8.418231   9.276139          1.876676   \n",
       "\n",
       "     Delicatessen Spending  \n",
       "154      0.884956      Low  \n",
       "97       2.919370      Low  \n",
       "98       5.331179      Low  \n",
       "355      3.644189      Low  \n",
       "131      8.310992      Low  "
      ]
     },
     "execution_count": 26,
     "metadata": {},
     "output_type": "execute_result"
    }
   ],
   "source": [
    "# Using select_lowest index to select 10% lowest spenders \n",
    "lowest = data_percent.iloc[select_lowest,[0,1,2,3,4,5]]\n",
    "lowest['Spending'] = 'Low'\n",
    "lowest.head()"
   ]
  },
  {
   "cell_type": "code",
   "execution_count": 27,
   "metadata": {},
   "outputs": [
    {
     "data": {
      "text/html": [
       "<div>\n",
       "<style scoped>\n",
       "    .dataframe tbody tr th:only-of-type {\n",
       "        vertical-align: middle;\n",
       "    }\n",
       "\n",
       "    .dataframe tbody tr th {\n",
       "        vertical-align: top;\n",
       "    }\n",
       "\n",
       "    .dataframe thead th {\n",
       "        text-align: right;\n",
       "    }\n",
       "</style>\n",
       "<table border=\"1\" class=\"dataframe\">\n",
       "  <thead>\n",
       "    <tr style=\"text-align: right;\">\n",
       "      <th></th>\n",
       "      <th>Fresh</th>\n",
       "      <th>Milk</th>\n",
       "      <th>Grocery</th>\n",
       "      <th>Frozen</th>\n",
       "      <th>Detergents_Paper</th>\n",
       "      <th>Delicatessen</th>\n",
       "      <th>Spending</th>\n",
       "    </tr>\n",
       "  </thead>\n",
       "  <tbody>\n",
       "    <tr>\n",
       "      <th>202</th>\n",
       "      <td>43.168388</td>\n",
       "      <td>19.675248</td>\n",
       "      <td>16.254732</td>\n",
       "      <td>8.675471</td>\n",
       "      <td>0.486443</td>\n",
       "      <td>11.739719</td>\n",
       "      <td>High</td>\n",
       "    </tr>\n",
       "    <tr>\n",
       "      <th>24</th>\n",
       "      <td>38.132682</td>\n",
       "      <td>16.460684</td>\n",
       "      <td>23.222765</td>\n",
       "      <td>4.908234</td>\n",
       "      <td>7.546725</td>\n",
       "      <td>9.728911</td>\n",
       "      <td>High</td>\n",
       "    </tr>\n",
       "    <tr>\n",
       "      <th>171</th>\n",
       "      <td>0.324929</td>\n",
       "      <td>42.016506</td>\n",
       "      <td>32.193917</td>\n",
       "      <td>1.057642</td>\n",
       "      <td>14.252989</td>\n",
       "      <td>10.154016</td>\n",
       "      <td>High</td>\n",
       "    </tr>\n",
       "    <tr>\n",
       "      <th>165</th>\n",
       "      <td>25.170057</td>\n",
       "      <td>20.395564</td>\n",
       "      <td>32.009414</td>\n",
       "      <td>7.132725</td>\n",
       "      <td>11.457494</td>\n",
       "      <td>3.834746</td>\n",
       "      <td>High</td>\n",
       "    </tr>\n",
       "    <tr>\n",
       "      <th>239</th>\n",
       "      <td>76.400753</td>\n",
       "      <td>4.129466</td>\n",
       "      <td>6.079179</td>\n",
       "      <td>8.434278</td>\n",
       "      <td>1.331982</td>\n",
       "      <td>3.624342</td>\n",
       "      <td>High</td>\n",
       "    </tr>\n",
       "  </tbody>\n",
       "</table>\n",
       "</div>"
      ],
      "text/plain": [
       "         Fresh       Milk    Grocery    Frozen  Detergents_Paper  \\\n",
       "202  43.168388  19.675248  16.254732  8.675471          0.486443   \n",
       "24   38.132682  16.460684  23.222765  4.908234          7.546725   \n",
       "171   0.324929  42.016506  32.193917  1.057642         14.252989   \n",
       "165  25.170057  20.395564  32.009414  7.132725         11.457494   \n",
       "239  76.400753   4.129466   6.079179  8.434278          1.331982   \n",
       "\n",
       "     Delicatessen Spending  \n",
       "202     11.739719     High  \n",
       "24       9.728911     High  \n",
       "171     10.154016     High  \n",
       "165      3.834746     High  \n",
       "239      3.624342     High  "
      ]
     },
     "execution_count": 27,
     "metadata": {},
     "output_type": "execute_result"
    }
   ],
   "source": [
    "# Using select_highest index to select 10% highest spenders \n",
    "highest = data_percent.iloc[select_highest,[0,1,2,3,4,5]]\n",
    "highest['Spending'] = 'High'\n",
    "highest.head()"
   ]
  },
  {
   "cell_type": "code",
   "execution_count": 39,
   "metadata": {},
   "outputs": [
    {
     "data": {
      "text/html": [
       "<div>\n",
       "<style scoped>\n",
       "    .dataframe tbody tr th:only-of-type {\n",
       "        vertical-align: middle;\n",
       "    }\n",
       "\n",
       "    .dataframe tbody tr th {\n",
       "        vertical-align: top;\n",
       "    }\n",
       "\n",
       "    .dataframe thead th {\n",
       "        text-align: right;\n",
       "    }\n",
       "</style>\n",
       "<table border=\"1\" class=\"dataframe\">\n",
       "  <thead>\n",
       "    <tr style=\"text-align: right;\">\n",
       "      <th></th>\n",
       "      <th>Fresh</th>\n",
       "      <th>Milk</th>\n",
       "      <th>Grocery</th>\n",
       "      <th>Frozen</th>\n",
       "      <th>Detergents_Paper</th>\n",
       "      <th>Delicatessen</th>\n",
       "      <th>Spending</th>\n",
       "    </tr>\n",
       "  </thead>\n",
       "  <tbody>\n",
       "    <tr>\n",
       "      <th>77</th>\n",
       "      <td>18.120676</td>\n",
       "      <td>18.851145</td>\n",
       "      <td>42.373133</td>\n",
       "      <td>1.290198</td>\n",
       "      <td>17.866793</td>\n",
       "      <td>1.498055</td>\n",
       "      <td>High</td>\n",
       "    </tr>\n",
       "    <tr>\n",
       "      <th>325</th>\n",
       "      <td>24.998281</td>\n",
       "      <td>12.824255</td>\n",
       "      <td>10.411302</td>\n",
       "      <td>46.508554</td>\n",
       "      <td>0.971905</td>\n",
       "      <td>4.285703</td>\n",
       "      <td>High</td>\n",
       "    </tr>\n",
       "    <tr>\n",
       "      <th>435</th>\n",
       "      <td>40.521405</td>\n",
       "      <td>16.440206</td>\n",
       "      <td>21.864342</td>\n",
       "      <td>17.919020</td>\n",
       "      <td>0.248288</td>\n",
       "      <td>3.006739</td>\n",
       "      <td>High</td>\n",
       "    </tr>\n",
       "    <tr>\n",
       "      <th>181</th>\n",
       "      <td>58.974386</td>\n",
       "      <td>15.579301</td>\n",
       "      <td>9.543091</td>\n",
       "      <td>8.805326</td>\n",
       "      <td>2.601896</td>\n",
       "      <td>4.496001</td>\n",
       "      <td>High</td>\n",
       "    </tr>\n",
       "    <tr>\n",
       "      <th>49</th>\n",
       "      <td>6.913591</td>\n",
       "      <td>29.803463</td>\n",
       "      <td>40.255275</td>\n",
       "      <td>2.502645</td>\n",
       "      <td>18.906241</td>\n",
       "      <td>1.618785</td>\n",
       "      <td>High</td>\n",
       "    </tr>\n",
       "    <tr>\n",
       "      <th>233</th>\n",
       "      <td>9.079778</td>\n",
       "      <td>46.943581</td>\n",
       "      <td>31.232928</td>\n",
       "      <td>8.825469</td>\n",
       "      <td>3.852312</td>\n",
       "      <td>0.065932</td>\n",
       "      <td>Low</td>\n",
       "    </tr>\n",
       "    <tr>\n",
       "      <th>206</th>\n",
       "      <td>66.705045</td>\n",
       "      <td>8.164120</td>\n",
       "      <td>9.943479</td>\n",
       "      <td>9.189868</td>\n",
       "      <td>3.014444</td>\n",
       "      <td>2.983044</td>\n",
       "      <td>Low</td>\n",
       "    </tr>\n",
       "    <tr>\n",
       "      <th>95</th>\n",
       "      <td>0.028444</td>\n",
       "      <td>27.685598</td>\n",
       "      <td>59.277520</td>\n",
       "      <td>4.171802</td>\n",
       "      <td>2.114345</td>\n",
       "      <td>6.722291</td>\n",
       "      <td>Low</td>\n",
       "    </tr>\n",
       "    <tr>\n",
       "      <th>375</th>\n",
       "      <td>60.869112</td>\n",
       "      <td>15.110463</td>\n",
       "      <td>12.109212</td>\n",
       "      <td>6.221342</td>\n",
       "      <td>4.960400</td>\n",
       "      <td>0.729471</td>\n",
       "      <td>Low</td>\n",
       "    </tr>\n",
       "    <tr>\n",
       "      <th>224</th>\n",
       "      <td>66.459571</td>\n",
       "      <td>6.021014</td>\n",
       "      <td>13.695751</td>\n",
       "      <td>7.163088</td>\n",
       "      <td>0.639561</td>\n",
       "      <td>6.021014</td>\n",
       "      <td>Low</td>\n",
       "    </tr>\n",
       "  </tbody>\n",
       "</table>\n",
       "</div>"
      ],
      "text/plain": [
       "         Fresh       Milk    Grocery     Frozen  Detergents_Paper  \\\n",
       "77   18.120676  18.851145  42.373133   1.290198         17.866793   \n",
       "325  24.998281  12.824255  10.411302  46.508554          0.971905   \n",
       "435  40.521405  16.440206  21.864342  17.919020          0.248288   \n",
       "181  58.974386  15.579301   9.543091   8.805326          2.601896   \n",
       "49    6.913591  29.803463  40.255275   2.502645         18.906241   \n",
       "233   9.079778  46.943581  31.232928   8.825469          3.852312   \n",
       "206  66.705045   8.164120   9.943479   9.189868          3.014444   \n",
       "95    0.028444  27.685598  59.277520   4.171802          2.114345   \n",
       "375  60.869112  15.110463  12.109212   6.221342          4.960400   \n",
       "224  66.459571   6.021014  13.695751   7.163088          0.639561   \n",
       "\n",
       "     Delicatessen Spending  \n",
       "77       1.498055     High  \n",
       "325      4.285703     High  \n",
       "435      3.006739     High  \n",
       "181      4.496001     High  \n",
       "49       1.618785     High  \n",
       "233      0.065932      Low  \n",
       "206      2.983044      Low  \n",
       "95       6.722291      Low  \n",
       "375      0.729471      Low  \n",
       "224      6.021014      Low  "
      ]
     },
     "execution_count": 39,
     "metadata": {},
     "output_type": "execute_result"
    }
   ],
   "source": [
    "# Merge 10 highest and 10 lowest to high_and_low dataset\n",
    "high_and_low = pd.concat([lowest.iloc[10:], highest.iloc[10:]])\n",
    "high_and_low.sample(10)"
   ]
  },
  {
   "cell_type": "code",
   "execution_count": 37,
   "metadata": {},
   "outputs": [
    {
     "data": {
      "text/plain": [
       "array([[<matplotlib.axes._subplots.AxesSubplot object at 0x000002499BFD7A90>,\n",
       "        <matplotlib.axes._subplots.AxesSubplot object at 0x000002499C00D160>,\n",
       "        <matplotlib.axes._subplots.AxesSubplot object at 0x000002499C0263C8>],\n",
       "       [<matplotlib.axes._subplots.AxesSubplot object at 0x000002499C03E668>,\n",
       "        <matplotlib.axes._subplots.AxesSubplot object at 0x000002499C059940>,\n",
       "        <matplotlib.axes._subplots.AxesSubplot object at 0x000002499C074C18>]],\n",
       "      dtype=object)"
      ]
     },
     "execution_count": 37,
     "metadata": {},
     "output_type": "execute_result"
    },
    {
     "data": {
      "image/png": "[encoded data removed]",
      "text/plain": [
       "<Figure size 864x576 with 6 Axes>"
      ]
     },
     "metadata": {
      "needs_background": "light"
     },
     "output_type": "display_data"
    }
   ],
   "source": [
    "# Use boxplot with param: by='Spending', figsize=(12, 8), layout=(2, 3)\n",
    "boxplot = high_and_low.boxplot(by='Spending', figsize=(12, 8), layout=(2, 3))\n",
    "boxplot"
   ]
  },
  {
   "cell_type": "markdown",
   "metadata": {},
   "source": [
    "The main difference between purchasing habits in groups appears on variables **Frozen, Detergents_Paper and Delicatessen**. Clients that spend more tend to buy more (relatively speaking) on Detergents and Paper and less on Frozen Goods and Delicatessen than clients spending less."
   ]
  },
  {
   "cell_type": "markdown",
   "metadata": {},
   "source": [
    "## PCA"
   ]
  },
  {
   "cell_type": "markdown",
   "metadata": {},
   "source": [
    "**Normalization** is important in **PCA** since it is a variance maximizing exercise. It projects your original data onto directions which maximize the variance. So we need to scale our data first."
   ]
  },
  {
   "cell_type": "code",
   "execution_count": 46,
   "metadata": {},
   "outputs": [
    {
     "name": "stderr",
     "output_type": "stream",
     "text": [
      "C:\\Users\\Schaefer\\Anaconda3\\lib\\site-packages\\ipykernel_launcher.py:6: DataConversionWarning: Data with input dtype int64 were all converted to float64 by the scale function.\n",
      "  \n"
     ]
    },
    {
     "data": {
      "text/html": [
       "<div>\n",
       "<style scoped>\n",
       "    .dataframe tbody tr th:only-of-type {\n",
       "        vertical-align: middle;\n",
       "    }\n",
       "\n",
       "    .dataframe tbody tr th {\n",
       "        vertical-align: top;\n",
       "    }\n",
       "\n",
       "    .dataframe thead th {\n",
       "        text-align: right;\n",
       "    }\n",
       "</style>\n",
       "<table border=\"1\" class=\"dataframe\">\n",
       "  <thead>\n",
       "    <tr style=\"text-align: right;\">\n",
       "      <th></th>\n",
       "      <th>Fresh</th>\n",
       "      <th>Milk</th>\n",
       "      <th>Grocery</th>\n",
       "      <th>Frozen</th>\n",
       "      <th>Detergents_Paper</th>\n",
       "      <th>Delicatessen</th>\n",
       "    </tr>\n",
       "  </thead>\n",
       "  <tbody>\n",
       "    <tr>\n",
       "      <th>0</th>\n",
       "      <td>0.052933</td>\n",
       "      <td>0.523568</td>\n",
       "      <td>-0.041115</td>\n",
       "      <td>-0.589367</td>\n",
       "      <td>-0.043569</td>\n",
       "      <td>-0.066339</td>\n",
       "    </tr>\n",
       "    <tr>\n",
       "      <th>1</th>\n",
       "      <td>-0.391302</td>\n",
       "      <td>0.544458</td>\n",
       "      <td>0.170318</td>\n",
       "      <td>-0.270136</td>\n",
       "      <td>0.086407</td>\n",
       "      <td>0.089151</td>\n",
       "    </tr>\n",
       "    <tr>\n",
       "      <th>2</th>\n",
       "      <td>-0.447029</td>\n",
       "      <td>0.408538</td>\n",
       "      <td>-0.028157</td>\n",
       "      <td>-0.137536</td>\n",
       "      <td>0.133232</td>\n",
       "      <td>2.243293</td>\n",
       "    </tr>\n",
       "    <tr>\n",
       "      <th>3</th>\n",
       "      <td>0.100111</td>\n",
       "      <td>-0.624020</td>\n",
       "      <td>-0.392977</td>\n",
       "      <td>0.687144</td>\n",
       "      <td>-0.498588</td>\n",
       "      <td>0.093411</td>\n",
       "    </tr>\n",
       "    <tr>\n",
       "      <th>4</th>\n",
       "      <td>0.840239</td>\n",
       "      <td>-0.052396</td>\n",
       "      <td>-0.079356</td>\n",
       "      <td>0.173859</td>\n",
       "      <td>-0.231918</td>\n",
       "      <td>1.299347</td>\n",
       "    </tr>\n",
       "  </tbody>\n",
       "</table>\n",
       "</div>"
      ],
      "text/plain": [
       "      Fresh      Milk   Grocery    Frozen  Detergents_Paper  Delicatessen\n",
       "0  0.052933  0.523568 -0.041115 -0.589367         -0.043569     -0.066339\n",
       "1 -0.391302  0.544458  0.170318 -0.270136          0.086407      0.089151\n",
       "2 -0.447029  0.408538 -0.028157 -0.137536          0.133232      2.243293\n",
       "3  0.100111 -0.624020 -0.392977  0.687144         -0.498588      0.093411\n",
       "4  0.840239 -0.052396 -0.079356  0.173859         -0.231918      1.299347"
      ]
     },
     "execution_count": 46,
     "metadata": {},
     "output_type": "execute_result"
    }
   ],
   "source": [
    "# Import scale from sklearn.preprocessing\n",
    "from sklearn.preprocessing import scale\n",
    "\n",
    "# Scale data and called it as X\n",
    "data = data.drop(columns=\"total\")\n",
    "X = pd.DataFrame(scale(data), index=data.index, columns=data.columns)\n",
    "X.head()"
   ]
  },
  {
   "cell_type": "code",
   "execution_count": 47,
   "metadata": {},
   "outputs": [
    {
     "data": {
      "text/plain": [
       "PCA(copy=True, iterated_power='auto', n_components=6, random_state=None,\n",
       "  svd_solver='auto', tol=0.0, whiten=False)"
      ]
     },
     "execution_count": 47,
     "metadata": {},
     "output_type": "execute_result"
    }
   ],
   "source": [
    "# Import PCA\n",
    "from sklearn.decomposition import PCA\n",
    "\n",
    "\n",
    "# Apply PCA by fitting the scaled data with the same number of dimensions as features\n",
    "pca = PCA(n_components=6)\n",
    "pca.fit(X)"
   ]
  },
  {
   "cell_type": "code",
   "execution_count": 48,
   "metadata": {},
   "outputs": [],
   "source": [
    "# pca_loadings\n",
    "pca_loadings = pd.DataFrame(pca.components_.T, index=X.columns,\n",
    "                            columns=['V1', 'V2', 'V3', 'V4', 'V5', 'V6'])\n",
    "\n",
    "# Transform X using the PCA fit above\n",
    "pca_data = pd.DataFrame(pca.fit_transform(X),\n",
    "                        columns=['PC1', 'PC2', 'PC3', 'PC4', 'PC5', 'PC6'],\n",
    "                        index=X.index)"
   ]
  },
  {
   "cell_type": "markdown",
   "metadata": {},
   "source": [
    "### Analyzing PCA Samples"
   ]
  },
  {
   "cell_type": "markdown",
   "metadata": {},
   "source": [
    "### Visualizing a Biplot"
   ]
  },
  {
   "cell_type": "code",
   "execution_count": 49,
   "metadata": {},
   "outputs": [],
   "source": [
    "def biplot(origin_data, reduced_data, pca):\n",
    "    '''\n",
    "    Produce a biplot that shows a scatterplot of the reduced\n",
    "    data and the projections of the original features.\n",
    "    \n",
    "    origin_data: original data, before transformation.\n",
    "               Needs to be a pandas dataframe with valid column names\n",
    "    reduced_data: the reduced data (the first two dimensions are plotted)\n",
    "    pca: pca object that contains the components_ attribute\n",
    "\n",
    "    return: a matplotlib AxesSubplot object (for any additional customization)\n",
    "    \n",
    "    This procedure is inspired by the script:\n",
    "    https://github.com/teddyroland/python-biplot\n",
    "    '''\n",
    "\n",
    "    fig, ax = plt.subplots(figsize = (14,8))\n",
    "    # scatterplot of the reduced data    \n",
    "    ax.scatter(x=reduced_data.loc[:, 'PC1'], y=reduced_data.loc[:, 'PC2'], \n",
    "        facecolors='b', edgecolors='b', s=70, alpha=0.5)\n",
    "    \n",
    "    feature_vectors = pca.components_.T\n",
    "\n",
    "    # we use scaling factors to make the arrows easier to see\n",
    "    arrow_size, text_pos = 7.0, 8.0,\n",
    "\n",
    "    # projections of the original features\n",
    "    for i, v in enumerate(feature_vectors):\n",
    "        ax.arrow(0, 0, arrow_size*v[0], arrow_size*v[1], \n",
    "                  head_width=0.2, head_length=0.2, linewidth=2, color='red')\n",
    "        ax.text(v[0]*text_pos, v[1]*text_pos, origin_data.columns[i], color='black', \n",
    "                 ha='center', va='center', fontsize=18)\n",
    "\n",
    "    ax.set_xlabel(\"Dimension 1\", fontsize=14)\n",
    "    ax.set_ylabel(\"Dimension 2\", fontsize=14)\n",
    "    ax.set_title(\"PC plane with original feature projections.\", fontsize=16);\n",
    "    return ax"
   ]
  },
  {
   "cell_type": "code",
   "execution_count": 50,
   "metadata": {},
   "outputs": [
    {
     "data": {
      "text/plain": [
       "<matplotlib.axes._subplots.AxesSubplot at 0x2499d691e10>"
      ]
     },
     "execution_count": 50,
     "metadata": {},
     "output_type": "execute_result"
    },
    {
     "data": {
      "image/png": "[encoded data removed]",
      "text/plain": [
       "<Figure size 1008x576 with 1 Axes>"
      ]
     },
     "metadata": {
      "needs_background": "light"
     },
     "output_type": "display_data"
    }
   ],
   "source": [
    "# Using provided biplot function to make a biplot\n",
    "# Your code here\n",
    "biplot(X,pca_data,pca)"
   ]
  },
  {
   "cell_type": "markdown",
   "metadata": {},
   "source": [
    "### Choosing the number of components\n",
    "A vital part of using PCA in practice is the ability to estimate how many components are needed to describe the data. This can be determined by looking at the cumulative explained variance ratio as a function of the number of components:"
   ]
  },
  {
   "cell_type": "code",
   "execution_count": 51,
   "metadata": {},
   "outputs": [
    {
     "data": {
      "image/png": "[encoded data removed]",
      "text/plain": [
       "<Figure size 1152x648 with 1 Axes>"
      ]
     },
     "metadata": {
      "needs_background": "light"
     },
     "output_type": "display_data"
    }
   ],
   "source": [
    "# Your code here\n",
    "plt.figure(figsize=(16, 9))\n",
    "plt.plot(np.cumsum(pca.explained_variance_ratio_))\n",
    "plt.xlabel('number of components')\n",
    "plt.ylabel('cumulative explained variance');"
   ]
  },
  {
   "cell_type": "code",
   "execution_count": null,
   "metadata": {},
   "outputs": [],
   "source": []
  },
  {
   "cell_type": "markdown",
   "metadata": {},
   "source": [
    "## Clustering"
   ]
  },
  {
   "cell_type": "markdown",
   "metadata": {},
   "source": [
    "### K-Means"
   ]
  },
  {
   "cell_type": "markdown",
   "metadata": {},
   "source": [
    "To use K-Means algorithms we need to define K value first. One way to choose K value, we use elbow algorithms"
   ]
  },
  {
   "cell_type": "code",
   "execution_count": 60,
   "metadata": {},
   "outputs": [
    {
     "data": {
      "image/png": "[encoded data removed]",
      "text/plain": [
       "<Figure size 432x288 with 1 Axes>"
      ]
     },
     "metadata": {
      "needs_background": "light"
     },
     "output_type": "display_data"
    }
   ],
   "source": [
    "# Import KMeans from sklearn\n",
    "from sklearn.cluster import KMeans\n",
    "from sklearn.metrics import accuracy_score\n",
    "\n",
    "# Choose the range of k value we want to test (1 - 20)\n",
    "k_values = [1,2,3,4,5,6,7,8,9]\n",
    "\n",
    "# For each value of K, we create a KMeans model and save in k_mean_models\n",
    "k_mean_models = [KMeans(n_clusters=value) for value in k_values] \n",
    "\n",
    "\n",
    "#accuracy_score(y_hc, y_kmeans)\n",
    "# For each Models, we fit with scaled data and calculate score\n",
    "scores =[(model.fit(X).score(X)) for model in k_mean_models]\n",
    "\n",
    "norm_scores = [score/max(scores) for score in scores]\n",
    "\n",
    "plt.plot(k_values, norm_scores, '-o')\n",
    "plt.xlabel('k')\n",
    "plt.ylabel('score');"
   ]
  },
  {
   "cell_type": "markdown",
   "metadata": {},
   "source": [
    "### Hierarchical"
   ]
  },
  {
   "cell_type": "code",
   "execution_count": 61,
   "metadata": {},
   "outputs": [],
   "source": [
    "# Import dendrogram, linkage from scipy.cluster.hierarchy\n",
    "# Import dendrogram and linkage\n",
    "from scipy.cluster.hierarchy import dendrogram , linkage\n"
   ]
  },
  {
   "cell_type": "code",
   "execution_count": 62,
   "metadata": {},
   "outputs": [],
   "source": [
    "# generate the linkage matrix\n",
    "Z = linkage(X, 'ward')\n"
   ]
  },
  {
   "cell_type": "code",
   "execution_count": 63,
   "metadata": {},
   "outputs": [
    {
     "data": {
      "image/png": "[encoded data removed]",
      "text/plain": [
       "<Figure size 1800x720 with 1 Axes>"
      ]
     },
     "metadata": {
      "needs_background": "light"
     },
     "output_type": "display_data"
    }
   ],
   "source": [
    "# calculate full dendrogram\n",
    "fig = plt.figure(figsize=(25, 10))\n",
    "plt.yticks(fontsize=50)\n",
    "plt.title(\"Hierarchical Cluster\")\n",
    "# Your code here\n",
    "dendrogram(\n",
    "    Z,\n",
    ");"
   ]
  },
  {
   "cell_type": "code",
   "execution_count": 92,
   "metadata": {},
   "outputs": [
    {
     "data": {
      "text/plain": [
       "array([2, 2, 2, 4, 0, 2, 2, 2, 4, 2, 2, 4, 0, 0, 0, 4, 2, 2, 0, 2, 0, 4,\n",
       "       0, 0, 2, 2, 4, 4, 5, 0, 0, 4, 0, 0, 4, 2, 0, 2, 2, 0, 0, 0, 2, 5,\n",
       "       2, 5, 2, 1, 2, 5, 4, 4, 0, 2, 0, 4, 5, 2, 4, 2, 2, 1, 2, 2, 4, 5,\n",
       "       2, 0, 4, 4, 0, 0, 4, 0, 2, 4, 4, 5, 4, 4, 4, 2, 2, 4, 2, 1, 1, 0,\n",
       "       4, 0, 4, 0, 5, 0, 2, 4, 2, 4, 4, 4, 2, 2, 2, 0, 4, 4, 2, 2, 2, 2,\n",
       "       4, 2, 0, 4, 4, 4, 4, 4, 4, 4, 4, 4, 4, 2, 0, 0, 0, 0, 2, 0, 4, 4,\n",
       "       4, 4, 4, 4, 2, 2, 0, 4, 0, 0, 0, 4, 2, 5, 4, 4, 4, 0, 4, 4, 4, 2,\n",
       "       4, 5, 2, 4, 2, 2, 2, 4, 4, 5, 2, 2, 2, 4, 4, 4, 2, 5, 2, 5, 4, 2,\n",
       "       0, 0, 2, 4, 0, 0, 2, 3, 4, 2, 4, 2, 2, 2, 0, 4, 4, 2, 4, 0, 0, 2,\n",
       "       4, 4, 2, 5, 2, 4, 4, 5, 4, 2, 2, 2, 0, 5, 4, 2, 2, 2, 5, 4, 2, 4,\n",
       "       4, 2, 4, 4, 4, 4, 0, 4, 4, 4, 0, 2, 0, 4, 0, 4, 4, 4, 4, 0, 0, 0,\n",
       "       4, 0, 2, 2, 4, 4, 2, 4, 4, 5, 4, 0, 2, 0, 2, 4, 0, 0, 4, 4, 0, 4,\n",
       "       2, 2, 2, 0, 2, 4, 4, 4, 2, 0, 4, 4, 0, 0, 4, 0, 4, 2, 0, 0, 0, 0,\n",
       "       4, 0, 4, 0, 4, 4, 4, 2, 0, 4, 4, 2, 2, 4, 0, 2, 2, 2, 5, 2, 2, 4,\n",
       "       4, 2, 0, 0, 5, 4, 4, 2, 4, 4, 4, 5, 4, 4, 4, 2, 0, 0, 4, 4, 0, 4,\n",
       "       4, 5, 0, 1, 0, 0, 4, 4, 0, 4, 2, 2, 2, 5, 4, 2, 2, 0, 4, 2, 4, 5,\n",
       "       4, 5, 0, 4, 4, 2, 2, 4, 4, 4, 4, 4, 4, 2, 4, 4, 4, 4, 0, 0, 2, 0,\n",
       "       4, 4, 2, 0, 4, 2, 0, 0, 0, 4, 2, 4, 4, 4, 4, 4, 4, 4, 4, 0, 4, 4,\n",
       "       2, 4, 4, 4, 4, 0, 0, 0, 4, 4, 0, 2, 2, 2, 4, 2, 2, 0, 4, 2, 2, 2,\n",
       "       2, 4, 2, 0, 0, 2, 2, 0, 2, 0, 4, 4, 2, 0, 0, 4, 2, 0, 0, 5, 4, 4],\n",
       "      dtype=int64)"
      ]
     },
     "execution_count": 92,
     "metadata": {},
     "output_type": "execute_result"
    }
   ],
   "source": [
    "# To apply hierarchical in product, we use AgglomerativeClustering\n",
    "# in sklearn package instead of scipy\n",
    "# so import it first\n",
    "from sklearn.cluster import AgglomerativeClustering\n",
    "\n",
    "# Create AgglomerativeClustering model with n_clusters equals to the number of cluster\n",
    "# you think it's the best one\n",
    "cluster = AgglomerativeClustering(n_clusters=6,linkage='ward')\n",
    "\n",
    "# fit model with scaled data\n",
    "cluster.fit_predict(X)\n",
    "cluster.labels_"
   ]
  },
  {
   "cell_type": "code",
   "execution_count": 103,
   "metadata": {},
   "outputs": [
    {
     "data": {
      "text/plain": [
       "<matplotlib.collections.PathCollection at 0x249a0d7ba58>"
      ]
     },
     "execution_count": 103,
     "metadata": {},
     "output_type": "execute_result"
    },
    {
     "data": {
      "image/png": "[encoded data removed]",
      "text/plain": [
       "<Figure size 720x504 with 1 Axes>"
      ]
     },
     "metadata": {},
     "output_type": "display_data"
    }
   ],
   "source": [
    "# Plot out result using scatter using the first 2 components of PCA\n",
    "# Your code here\n",
    "pca = PCA(n_components=2)\n",
    "pca.fit(X)\n",
    "X_pca = pca.transform(X)\n",
    "plt.figure(figsize=(10, 7))  \n",
    "plt.scatter(X_pca[:,0],X_pca[:,1], c=cluster.labels_, cmap='rainbow')  \n"
   ]
  },
  {
   "cell_type": "markdown",
   "metadata": {},
   "source": [
    "## Great job!!!"
   ]
  }
 ],
 "metadata": {
  "kernelspec": {
   "display_name": "Python 3",
   "language": "python",
   "name": "python3"
  },
  "language_info": {
   "codemirror_mode": {
    "name": "ipython",
    "version": 3
   },
   "file_extension": ".py",
   "mimetype": "text/x-python",
   "name": "python",
   "nbconvert_exporter": "python",
   "pygments_lexer": "ipython3",
   "version": "3.7.3"
  }
 },
 "nbformat": 4,
 "nbformat_minor": 2
}
